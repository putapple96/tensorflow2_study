{
 "cells": [
  {
   "cell_type": "code",
   "execution_count": 13,
   "metadata": {},
   "outputs": [
    {
     "name": "stdout",
     "output_type": "stream",
     "text": [
      "2.375     125.0\n",
      "2.25625     243.75\n",
      "2.1434375     356.5625\n",
      "2.036265625     463.734375\n",
      "1.9344523437499999     565.54765625\n",
      "1.8377297265624999     662.2702734375\n",
      "1.7458432402343749     754.156759765625\n",
      "1.658551078222656     841.4489217773437\n",
      "1.575623524311523     924.3764756884765\n",
      "1.496842348095947     1003.1576519040526\n",
      "1.0031576519040535\n"
     ]
    }
   ],
   "source": [
    "init = 2.5\n",
    "rate = 0.95\n",
    "token = 0\n",
    "idx = 10\n",
    "used = 0\n",
    "while(idx > 0):\n",
    "    token += (init * 50)\n",
    "    used +=(init*(1-rate))\n",
    "    init *= rate\n",
    "    idx -= 1\n",
    "    print(init,\"   \", token)\n",
    "print(used)"
   ]
  },
  {
   "cell_type": "code",
   "execution_count": null,
   "metadata": {},
   "outputs": [],
   "source": []
  },
  {
   "cell_type": "code",
   "execution_count": null,
   "metadata": {},
   "outputs": [],
   "source": []
  }
 ],
 "metadata": {
  "kernelspec": {
   "display_name": "Python 3",
   "language": "python",
   "name": "python3"
  },
  "language_info": {
   "codemirror_mode": {
    "name": "ipython",
    "version": 3
   },
   "file_extension": ".py",
   "mimetype": "text/x-python",
   "name": "python",
   "nbconvert_exporter": "python",
   "pygments_lexer": "ipython3",
   "version": "3.7.4"
  }
 },
 "nbformat": 4,
 "nbformat_minor": 2
}
