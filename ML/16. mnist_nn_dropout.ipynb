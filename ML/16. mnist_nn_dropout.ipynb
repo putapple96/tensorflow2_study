{
 "cells": [
  {
   "cell_type": "markdown",
   "metadata": {},
   "source": [
    "## MNIST NN Dropout"
   ]
  },
  {
   "cell_type": "code",
   "execution_count": 1,
   "metadata": {},
   "outputs": [
    {
     "name": "stdout",
     "output_type": "stream",
     "text": [
      "(60000, 28, 28)\n"
     ]
    }
   ],
   "source": [
    "import numpy as np\n",
    "import tensorflow as tf\n",
    "import random\n",
    "\n",
    "random.seed(1234)\n",
    "lr = 0.001\n",
    "batch_size = 100\n",
    "train_epochs = 15\n",
    "classes = 10\n",
    "drop_rate = 0.3 # dropout 시 drop 시킬 layer에 대한 rate을 설정해 줄 변수\n",
    "\n",
    "(x_train, y_train), (x_test, y_test) = tf.keras.datasets.mnist.load_data()\n",
    "print(x_train.shape)"
   ]
  },
  {
   "cell_type": "code",
   "execution_count": 2,
   "metadata": {},
   "outputs": [],
   "source": [
    "x_train = x_train.reshape(x_train.shape[0], 28 * 28)\n",
    "x_test = x_test.reshape(x_test.shape[0], 28 * 28)\n",
    "\n",
    "y_train = tf.keras.utils.to_categorical(y_train, classes)\n",
    "y_test = tf.keras.utils.to_categorical(y_test, classes)"
   ]
  },
  {
   "cell_type": "markdown",
   "metadata": {},
   "source": [
    "30% 의 비율로 레이어의 일부노드(뉴런)를 무시하는 Dropout 레이어를 각 Dense layer 사이에 추가해준다."
   ]
  },
  {
   "cell_type": "code",
   "execution_count": 4,
   "metadata": {},
   "outputs": [
    {
     "name": "stdout",
     "output_type": "stream",
     "text": [
      "Model: \"sequential_1\"\n",
      "_________________________________________________________________\n",
      "Layer (type)                 Output Shape              Param #   \n",
      "=================================================================\n",
      "dense_5 (Dense)              (None, 512)               401920    \n",
      "_________________________________________________________________\n",
      "dropout_4 (Dropout)          (None, 512)               0         \n",
      "_________________________________________________________________\n",
      "dense_6 (Dense)              (None, 512)               262656    \n",
      "_________________________________________________________________\n",
      "dropout_5 (Dropout)          (None, 512)               0         \n",
      "_________________________________________________________________\n",
      "dense_7 (Dense)              (None, 512)               262656    \n",
      "_________________________________________________________________\n",
      "dropout_6 (Dropout)          (None, 512)               0         \n",
      "_________________________________________________________________\n",
      "dense_8 (Dense)              (None, 512)               262656    \n",
      "_________________________________________________________________\n",
      "dropout_7 (Dropout)          (None, 512)               0         \n",
      "_________________________________________________________________\n",
      "dense_9 (Dense)              (None, 10)                5130      \n",
      "=================================================================\n",
      "Total params: 1,195,018\n",
      "Trainable params: 1,195,018\n",
      "Non-trainable params: 0\n",
      "_________________________________________________________________\n"
     ]
    }
   ],
   "source": [
    "tf.model = tf.keras.Sequential()\n",
    "\n",
    "tf.model.add(tf.keras.layers.Dense(input_dim=784, units=512,\n",
    "                                  kernel_initializer='glorot_normal',\n",
    "                                  activation='relu'))\n",
    "tf.model.add(tf.keras.layers.Dropout(drop_rate))\n",
    "tf.model.add(tf.keras.layers.Dense(units=512,\n",
    "                                  kernel_initializer='glorot_normal',\n",
    "                                  activation='relu'))\n",
    "tf.model.add(tf.keras.layers.Dropout(drop_rate))\n",
    "tf.model.add(tf.keras.layers.Dense(units=512,\n",
    "                                  kernel_initializer='glorot_normal',\n",
    "                                  activation='relu'))\n",
    "tf.model.add(tf.keras.layers.Dropout(drop_rate))\n",
    "tf.model.add(tf.keras.layers.Dense(units=512,\n",
    "                                  kernel_initializer='glorot_normal',\n",
    "                                  activation='relu'))\n",
    "tf.model.add(tf.keras.layers.Dropout(drop_rate))\n",
    "tf.model.add(tf.keras.layers.Dense(units=classes,\n",
    "                                  kernel_initializer='glorot_normal',\n",
    "                                  activation='softmax'))\n",
    "\n",
    "tf.model.compile(loss='categorical_crossentropy', \n",
    "                optimizer=tf.keras.optimizers.Adam(lr=lr),\n",
    "                metrics=['accuracy'])\n",
    "\n",
    "tf.model.summary()"
   ]
  },
  {
   "cell_type": "code",
   "execution_count": 5,
   "metadata": {},
   "outputs": [
    {
     "name": "stdout",
     "output_type": "stream",
     "text": [
      "Train on 60000 samples\n",
      "Epoch 1/15\n",
      "60000/60000 [==============================] - 20s 329us/sample - loss: 2.1171 - accuracy: 0.7579\n",
      "Epoch 2/15\n",
      "60000/60000 [==============================] - 19s 314us/sample - loss: 0.3692 - accuracy: 0.8963\n",
      "Epoch 3/15\n",
      "60000/60000 [==============================] - 19s 312us/sample - loss: 0.2782 - accuracy: 0.9232\n",
      "Epoch 4/15\n",
      "60000/60000 [==============================] - 19s 313us/sample - loss: 0.2344 - accuracy: 0.9352\n",
      "Epoch 5/15\n",
      "60000/60000 [==============================] - 19s 325us/sample - loss: 0.2088 - accuracy: 0.9435\n",
      "Epoch 6/15\n",
      "60000/60000 [==============================] - 22s 369us/sample - loss: 0.1916 - accuracy: 0.9488\n",
      "Epoch 7/15\n",
      "60000/60000 [==============================] - 20s 340us/sample - loss: 0.1830 - accuracy: 0.9517\n",
      "Epoch 8/15\n",
      "60000/60000 [==============================] - 19s 323us/sample - loss: 0.1805 - accuracy: 0.9532\n",
      "Epoch 9/15\n",
      "60000/60000 [==============================] - 20s 326us/sample - loss: 0.1779 - accuracy: 0.9545\n",
      "Epoch 10/15\n",
      "60000/60000 [==============================] - 19s 315us/sample - loss: 0.1765 - accuracy: 0.9570- loss: 0.1771 - accura\n",
      "Epoch 11/15\n",
      "60000/60000 [==============================] - 19s 314us/sample - loss: 0.1763 - accuracy: 0.9563\n",
      "Epoch 12/15\n",
      "60000/60000 [==============================] - 19s 318us/sample - loss: 0.1768 - accuracy: 0.9572\n",
      "Epoch 13/15\n",
      "60000/60000 [==============================] - 18s 308us/sample - loss: 0.1647 - accuracy: 0.9607\n",
      "Epoch 14/15\n",
      "60000/60000 [==============================] - 19s 321us/sample - loss: 0.1616 - accuracy: 0.9616\n",
      "Epoch 15/15\n",
      "60000/60000 [==============================] - 20s 329us/sample - loss: 0.1632 - accuracy: 0.9613\n"
     ]
    }
   ],
   "source": [
    "train_history = tf.model.fit(x_train, y_train, batch_size=batch_size,\n",
    "                            epochs=train_epochs)"
   ]
  },
  {
   "cell_type": "code",
   "execution_count": 9,
   "metadata": {},
   "outputs": [
    {
     "name": "stdout",
     "output_type": "stream",
     "text": [
      "Index :  7144 Real y :  7 Pred y :  7 Correct!\n",
      "Index :  1957 Real y :  2 Pred y :  2 Correct!\n",
      "Index :  8680 Real y :  9 Pred y :  9 Correct!\n",
      "Index :  1689 Real y :  2 Pred y :  2 Correct!\n",
      "Index :  7949 Real y :  6 Pred y :  6 Correct!\n",
      "Index :  6173 Real y :  9 Pred y :  9 Correct!\n",
      "Index :  4185 Real y :  1 Pred y :  1 Correct!\n",
      "Index :  3136 Real y :  7 Pred y :  7 Correct!\n",
      "Index :  5658 Real y :  5 Pred y :  5 Correct!\n",
      "Index :  1772 Real y :  7 Pred y :  7 Correct!\n",
      "Index :  2575 Real y :  3 Pred y :  3 Correct!\n",
      "Index :  9509 Real y :  1 Pred y :  1 Correct!\n",
      "Index :  4412 Real y :  6 Pred y :  6 Correct!\n",
      "Index :  2537 Real y :  4 Pred y :  4 Correct!\n",
      "Index :  5300 Real y :  8 Pred y :  8 Correct!\n",
      "Index :  7318 Real y :  9 Pred y :  9 Correct!\n",
      "Index :  1159 Real y :  4 Pred y :  4 Correct!\n",
      "Index :  1286 Real y :  8 Pred y :  8 Correct!\n",
      "Index :  6475 Real y :  4 Pred y :  4 Correct!\n",
      "Index :  3508 Real y :  2 Pred y :  2 Correct!\n",
      "Index :  782 Real y :  3 Pred y :  3 Correct!\n",
      "Index :  4688 Real y :  3 Pred y :  3 Correct!\n",
      "Index :  622 Real y :  4 Pred y :  4 Correct!\n",
      "Index :  3594 Real y :  7 Pred y :  7 Correct!\n",
      "Index :  8302 Real y :  7 Pred y :  7 Correct!\n",
      "Index :  1436 Real y :  6 Pred y :  6 Correct!\n",
      "Index :  5193 Real y :  1 Pred y :  1 Correct!\n",
      "Index :  5007 Real y :  6 Pred y :  6 Correct!\n",
      "Index :  7550 Real y :  4 Pred y :  4 Correct!\n",
      "Index :  1085 Real y :  6 Pred y :  6 Correct!\n",
      "Index :  9584 Real y :  5 Pred y :  5 Correct!\n",
      "Index :  4217 Real y :  4 Pred y :  4 Correct!\n",
      "Index :  1196 Real y :  6 Pred y :  6 Correct!\n",
      "Index :  6984 Real y :  9 Pred y :  9 Correct!\n",
      "Index :  3307 Real y :  6 Pred y :  6 Correct!\n",
      "Index :  1659 Real y :  1 Pred y :  1 Correct!\n",
      "Index :  6498 Real y :  6 Pred y :  6 Correct!\n",
      "Index :  3188 Real y :  4 Pred y :  4 Correct!\n",
      "Index :  7529 Real y :  3 Pred y :  3 Correct!\n",
      "Index :  8200 Real y :  6 Pred y :  6 Correct!\n",
      "Index :  3871 Real y :  8 Pred y :  8 Correct!\n",
      "Index :  5918 Real y :  0 Pred y :  0 Correct!\n",
      "Index :  3360 Real y :  7 Pred y :  7 Correct!\n",
      "Index :  8438 Real y :  2 Pred y :  2 Correct!\n",
      "Index :  6900 Real y :  6 Pred y :  6 Correct!\n",
      "Index :  2862 Real y :  8 Pred y :  8 Correct!\n",
      "Index :  9576 Real y :  7 Pred y :  7 Correct!\n",
      "Index :  3330 Real y :  2 Pred y :  2 Correct!\n",
      "Index :  4944 Real y :  2 Pred y :  2 Correct!\n",
      "Index :  988 Real y :  1 Pred y :  1 Correct!\n",
      "Index :  5775 Real y :  8 Pred y :  8 Correct!\n",
      "Index :  8754 Real y :  4 Pred y :  4 Correct!\n",
      "Index :  2507 Real y :  7 Pred y :  7 Correct!\n",
      "Index :  8185 Real y :  5 Pred y :  5 Correct!\n",
      "Index :  8995 Real y :  1 Pred y :  1 Correct!\n",
      "Index :  7740 Real y :  3 Pred y :  3 Correct!\n",
      "Index :  5468 Real y :  3 Pred y :  3 Correct!\n",
      "Index :  2272 Real y :  8 Pred y :  6 Incorrect..\n",
      "Index :  2145 Real y :  4 Pred y :  4 Correct!\n",
      "Index :  787 Real y :  8 Pred y :  8 Correct!\n",
      "Index :  2704 Real y :  1 Pred y :  1 Correct!\n",
      "Index :  2374 Real y :  2 Pred y :  2 Correct!\n",
      "Index :  8946 Real y :  3 Pred y :  3 Correct!\n",
      "Index :  1142 Real y :  4 Pred y :  4 Correct!\n",
      "Index :  5329 Real y :  3 Pred y :  3 Correct!\n",
      "Index :  2802 Real y :  2 Pred y :  2 Correct!\n",
      "Index :  27 Real y :  4 Pred y :  4 Correct!\n",
      "Index :  996 Real y :  2 Pred y :  2 Correct!\n",
      "Index :  1435 Real y :  9 Pred y :  9 Correct!\n",
      "Index :  2429 Real y :  2 Pred y :  2 Correct!\n",
      "Index :  3555 Real y :  8 Pred y :  8 Correct!\n",
      "Index :  653 Real y :  2 Pred y :  2 Correct!\n",
      "Index :  7090 Real y :  5 Pred y :  5 Correct!\n",
      "Index :  6413 Real y :  3 Pred y :  3 Correct!\n",
      "Index :  5315 Real y :  9 Pred y :  9 Correct!\n",
      "Index :  3393 Real y :  5 Pred y :  5 Correct!\n",
      "Index :  6245 Real y :  8 Pred y :  8 Correct!\n",
      "Index :  4588 Real y :  1 Pred y :  1 Correct!\n",
      "Index :  8806 Real y :  8 Pred y :  8 Correct!\n",
      "Index :  4989 Real y :  9 Pred y :  9 Correct!\n",
      "Index :  6914 Real y :  9 Pred y :  9 Correct!\n",
      "Index :  5225 Real y :  3 Pred y :  3 Correct!\n",
      "Index :  9465 Real y :  5 Pred y :  5 Correct!\n",
      "Index :  2480 Real y :  7 Pred y :  7 Correct!\n",
      "Index :  8726 Real y :  8 Pred y :  8 Correct!\n",
      "Index :  1521 Real y :  5 Pred y :  5 Correct!\n",
      "Index :  4265 Real y :  4 Pred y :  4 Correct!\n",
      "Index :  4555 Real y :  9 Pred y :  9 Correct!\n",
      "Index :  6721 Real y :  2 Pred y :  2 Correct!\n",
      "Index :  6554 Real y :  2 Pred y :  2 Correct!\n",
      "Index :  9256 Real y :  6 Pred y :  6 Correct!\n",
      "Index :  4534 Real y :  9 Pred y :  7 Incorrect..\n",
      "Index :  8614 Real y :  0 Pred y :  0 Correct!\n",
      "Index :  1863 Real y :  2 Pred y :  2 Correct!\n",
      "Index :  6149 Real y :  7 Pred y :  7 Correct!\n",
      "Index :  4492 Real y :  3 Pred y :  3 Correct!\n",
      "Index :  3504 Real y :  9 Pred y :  9 Correct!\n",
      "Index :  4873 Real y :  3 Pred y :  3 Correct!\n",
      "Index :  9625 Real y :  4 Pred y :  4 Correct!\n",
      "Index :  6526 Real y :  0 Pred y :  0 Correct!\n"
     ]
    }
   ],
   "source": [
    "pred = tf.model.predict(x_test)\n",
    "\n",
    "for x in range(0, 100):\n",
    "    rand = random.randint(0, x_test.shape[0] - 1)\n",
    "    print(\"Index : \", rand,\n",
    "         \"Real y : \", np.argmax(y_test[rand]),\n",
    "          \"Pred y : \", np.argmax(pred[rand]), end = ' ')\n",
    "    if(np.argmax(y_test[rand])==np.argmax(pred[rand])):\n",
    "        print(\"Correct!\")\n",
    "    else: print(\"Incorrect..\")"
   ]
  },
  {
   "cell_type": "code",
   "execution_count": 10,
   "metadata": {},
   "outputs": [
    {
     "name": "stdout",
     "output_type": "stream",
     "text": [
      "10000/10000 [==============================] - 3s 330us/sample - loss: 0.1426 - accuracy: 0.9722\n",
      "loss :  0.14263398681944636\n",
      "Accuracy :  0.9722\n"
     ]
    }
   ],
   "source": [
    "evaluation = tf.model.evaluate(x_test, y_test)\n",
    "print('loss : ', evaluation[0])\n",
    "print('Accuracy : ', evaluation[1])"
   ]
  },
  {
   "cell_type": "markdown",
   "metadata": {},
   "source": [
    "dropout 없이 학습을 진행한 경우와 정확도가 거의 일치함."
   ]
  }
 ],
 "metadata": {
  "kernelspec": {
   "display_name": "Python 3",
   "language": "python",
   "name": "python3"
  },
  "language_info": {
   "codemirror_mode": {
    "name": "ipython",
    "version": 3
   },
   "file_extension": ".py",
   "mimetype": "text/x-python",
   "name": "python",
   "nbconvert_exporter": "python",
   "pygments_lexer": "ipython3",
   "version": "3.7.4"
  }
 },
 "nbformat": 4,
 "nbformat_minor": 2
}
