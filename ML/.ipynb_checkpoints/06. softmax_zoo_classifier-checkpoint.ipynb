{
 "cells": [
  {
   "cell_type": "markdown",
   "metadata": {},
   "source": [
    "## Softmax Zoo Classifier"
   ]
  },
  {
   "cell_type": "markdown",
   "metadata": {},
   "source": [
    "1. 해당 데이터셋을 불러온 후 training feature 와 output으로 나누어줌"
   ]
  },
  {
   "cell_type": "code",
   "execution_count": null,
   "metadata": {},
   "outputs": [],
   "source": [
    "import tensorflow as tf\n",
    "import numpy as np\n",
    "\n",
    "data = np.loadtxt('./data/data-04-zoo.csv', delimiter=',', dtype=np.float32)\n",
    "print(data)\n",
    "\n",
    "x_data = data[:, 0: -1]\n",
    "y_data = data[:, [-1]]\n",
    "\n",
    "print()\n",
    "\n",
    "print(x_data.shape, y_data.shape)"
   ]
  },
  {
   "cell_type": "markdown",
   "metadata": {},
   "source": [
    "2. 분류 type 이 0 ~ 6 으로 7개, input feature 수가 16개 임을 파악하였으므로 모델을 작성한다"
   ]
  },
  {
   "cell_type": "code",
   "execution_count": null,
   "metadata": {},
   "outputs": [],
   "source": [
    "classes = 7\n",
    "\n",
    "y_onehot = tf.keras.utils.to_categorical(y_data, classes)\n",
    "# class vector 들을 binary class matrix 로 변환\n",
    "\n",
    "print(\"one hot : \\n\", y_onehot)"
   ]
  },
  {
   "cell_type": "code",
   "execution_count": null,
   "metadata": {},
   "outputs": [],
   "source": [
    "tf.model = tf.keras.Sequential()\n",
    "tf.model.add(tf.keras.layers.Dense(units=classes, input_dim = 16, activation='softmax'))\n",
    "tf.model.compile(loss='categorical_crossentropy',\n",
    "                 optimizer=tf.keras.optimizers.SGD(lr=0.01), metrics=['accuracy'])\n",
    "tf.model.summary()"
   ]
  },
  {
   "cell_type": "markdown",
   "metadata": {},
   "source": [
    "3. 모델을 학습시키고 임의의 데이터로 평가해본다"
   ]
  },
  {
   "cell_type": "code",
   "execution_count": null,
   "metadata": {},
   "outputs": [],
   "source": [
    "train_history = tf.model.fit(x_data, y_onehot, epochs=500)"
   ]
  },
  {
   "cell_type": "code",
   "execution_count": null,
   "metadata": {},
   "outputs": [],
   "source": [
    "test_data = np.array([[0, 0, 1, 0, 0, 1, 1, 1, 1, 0, 0, 1, 0, 1, 0, 0]])\n",
    "# expected prediction == 3 (feathers)\n",
    "\n",
    "print(tf.model.predict(test_data), tf.model.predict_classes(test_data))"
   ]
  },
  {
   "cell_type": "markdown",
   "metadata": {},
   "source": [
    "4. 모든 training input 에 대하여 잘 분류가 되었는지 확인해 본다."
   ]
  },
  {
   "cell_type": "code",
   "execution_count": null,
   "metadata": {},
   "outputs": [],
   "source": [
    "pred = tf.model.predict_classes(x_data)\n",
    "idx = 1\n",
    "for p, y in zip(pred, y_data.flatten()): # y 데이터를 1차원으로 변환 후 zip 을 이용하여 pair를 만들어줌\n",
    "    print(\"[#{}] [{}] Prediction : {} Real : {}\".format(idx, p == int(y), p, int(y)))\n",
    "    idx += 1"
   ]
  }
 ],
 "metadata": {
  "kernelspec": {
   "display_name": "Python 3",
   "language": "python",
   "name": "python3"
  },
  "language_info": {
   "codemirror_mode": {
    "name": "ipython",
    "version": 3
   },
   "file_extension": ".py",
   "mimetype": "text/x-python",
   "name": "python",
   "nbconvert_exporter": "python",
   "pygments_lexer": "ipython3",
   "version": "3.7.4"
  }
 },
 "nbformat": 4,
 "nbformat_minor": 2
}
