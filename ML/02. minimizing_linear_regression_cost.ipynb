{
 "cells": [
  {
   "cell_type": "markdown",
   "metadata": {},
   "source": [
    "## Minimizing Linear Regression Cost"
   ]
  },
  {
   "cell_type": "code",
   "execution_count": 4,
   "metadata": {},
   "outputs": [],
   "source": [
    "import numpy as np\n",
    "import tensorflow as tf\n",
    "import matplotlib.pyplot as plt\n",
    "\n",
    "x_train = [1, 2, 3, 4]\n",
    "y_train = [0, -1, -2, -3]"
   ]
  },
  {
   "cell_type": "markdown",
   "metadata": {},
   "source": [
    "Sequential 모델을 생성하고 Dense 계층을 하나 쌓아준다."
   ]
  },
  {
   "cell_type": "code",
   "execution_count": 5,
   "metadata": {},
   "outputs": [],
   "source": [
    "tf.model = tf.keras.Sequential()\n",
    "tf.model.add(tf.keras.layers.Dense(units=1, input_dim=1))"
   ]
  },
  {
   "cell_type": "markdown",
   "metadata": {},
   "source": [
    "optimizer 로 standard GD, 손실에 대한 함수는 mean square error를 사용"
   ]
  },
  {
   "cell_type": "code",
   "execution_count": 6,
   "metadata": {},
   "outputs": [
    {
     "name": "stdout",
     "output_type": "stream",
     "text": [
      "Model: \"sequential_1\"\n",
      "_________________________________________________________________\n",
      "Layer (type)                 Output Shape              Param #   \n",
      "=================================================================\n",
      "dense_1 (Dense)              (None, 1)                 2         \n",
      "=================================================================\n",
      "Total params: 2\n",
      "Trainable params: 2\n",
      "Non-trainable params: 0\n",
      "_________________________________________________________________\n"
     ]
    }
   ],
   "source": [
    "sgd = tf.keras.optimizers.SGD(lr=0.1) # learning rate = 0.1\n",
    "tf.model.compile(loss='mse', optimizer=sgd)\n",
    "\n",
    "tf.model.summary()"
   ]
  },
  {
   "cell_type": "markdown",
   "metadata": {},
   "source": [
    "train 데이터에 대하여 model 을 fit 해주고 train history를 기록"
   ]
  },
  {
   "cell_type": "code",
   "execution_count": 7,
   "metadata": {},
   "outputs": [
    {
     "name": "stdout",
     "output_type": "stream",
     "text": [
      "Train on 4 samples\n",
      "Epoch 1/100\n",
      "4/4 [==============================] - 1s 147ms/sample - loss: 8.2801\n",
      "Epoch 2/100\n",
      "4/4 [==============================] - 0s 3ms/sample - loss: 3.8597\n",
      "Epoch 3/100\n",
      "4/4 [==============================] - 0s 3ms/sample - loss: 1.8667\n",
      "Epoch 4/100\n",
      "4/4 [==============================] - 0s 4ms/sample - loss: 0.9639\n",
      "Epoch 5/100\n",
      "4/4 [==============================] - 0s 4ms/sample - loss: 0.5512\n",
      "Epoch 6/100\n",
      "4/4 [==============================] - 0s 4ms/sample - loss: 0.3589\n",
      "Epoch 7/100\n",
      "4/4 [==============================] - 0s 3ms/sample - loss: 0.2660\n",
      "Epoch 8/100\n",
      "4/4 [==============================] - 0s 4ms/sample - loss: 0.2181\n",
      "Epoch 9/100\n",
      "4/4 [==============================] - 0s 3ms/sample - loss: 0.1908\n",
      "Epoch 10/100\n",
      "4/4 [==============================] - 0s 4ms/sample - loss: 0.1730\n",
      "Epoch 11/100\n",
      "4/4 [==============================] - 0s 5ms/sample - loss: 0.1599\n",
      "Epoch 12/100\n",
      "4/4 [==============================] - 0s 6ms/sample - loss: 0.1492\n",
      "Epoch 13/100\n",
      "4/4 [==============================] - 0s 5ms/sample - loss: 0.1398\n",
      "Epoch 14/100\n",
      "4/4 [==============================] - 0s 4ms/sample - loss: 0.1313\n",
      "Epoch 15/100\n",
      "4/4 [==============================] - 0s 5ms/sample - loss: 0.1234\n",
      "Epoch 16/100\n",
      "4/4 [==============================] - 0s 5ms/sample - loss: 0.1161\n",
      "Epoch 17/100\n",
      "4/4 [==============================] - 0s 5ms/sample - loss: 0.1092\n",
      "Epoch 18/100\n",
      "4/4 [==============================] - 0s 5ms/sample - loss: 0.1028\n",
      "Epoch 19/100\n",
      "4/4 [==============================] - 0s 5ms/sample - loss: 0.0967\n",
      "Epoch 20/100\n",
      "4/4 [==============================] - 0s 5ms/sample - loss: 0.0910\n",
      "Epoch 21/100\n",
      "4/4 [==============================] - 0s 4ms/sample - loss: 0.0856\n",
      "Epoch 22/100\n",
      "4/4 [==============================] - 0s 5ms/sample - loss: 0.0806\n",
      "Epoch 23/100\n",
      "4/4 [==============================] - 0s 6ms/sample - loss: 0.0758\n",
      "Epoch 24/100\n",
      "4/4 [==============================] - 0s 5ms/sample - loss: 0.0713\n",
      "Epoch 25/100\n",
      "4/4 [==============================] - 0s 6ms/sample - loss: 0.0671\n",
      "Epoch 26/100\n",
      "4/4 [==============================] - 0s 6ms/sample - loss: 0.0632\n",
      "Epoch 27/100\n",
      "4/4 [==============================] - 0s 5ms/sample - loss: 0.0595\n",
      "Epoch 28/100\n",
      "4/4 [==============================] - 0s 5ms/sample - loss: 0.0559\n",
      "Epoch 29/100\n",
      "4/4 [==============================] - 0s 5ms/sample - loss: 0.0526\n",
      "Epoch 30/100\n",
      "4/4 [==============================] - 0s 5ms/sample - loss: 0.0495\n",
      "Epoch 31/100\n",
      "4/4 [==============================] - 0s 4ms/sample - loss: 0.0466\n",
      "Epoch 32/100\n",
      "4/4 [==============================] - 0s 6ms/sample - loss: 0.0439\n",
      "Epoch 33/100\n",
      "4/4 [==============================] - 0s 6ms/sample - loss: 0.0413\n",
      "Epoch 34/100\n",
      "4/4 [==============================] - 0s 6ms/sample - loss: 0.0388\n",
      "Epoch 35/100\n",
      "4/4 [==============================] - 0s 6ms/sample - loss: 0.0366\n",
      "Epoch 36/100\n",
      "4/4 [==============================] - 0s 5ms/sample - loss: 0.0344\n",
      "Epoch 37/100\n",
      "4/4 [==============================] - 0s 5ms/sample - loss: 0.0324\n",
      "Epoch 38/100\n",
      "4/4 [==============================] - 0s 6ms/sample - loss: 0.0305\n",
      "Epoch 39/100\n",
      "4/4 [==============================] - 0s 7ms/sample - loss: 0.0287\n",
      "Epoch 40/100\n",
      "4/4 [==============================] - 0s 5ms/sample - loss: 0.0270\n",
      "Epoch 41/100\n",
      "4/4 [==============================] - 0s 6ms/sample - loss: 0.0254\n",
      "Epoch 42/100\n",
      "4/4 [==============================] - 0s 5ms/sample - loss: 0.0239\n",
      "Epoch 43/100\n",
      "4/4 [==============================] - 0s 5ms/sample - loss: 0.0225\n",
      "Epoch 44/100\n",
      "4/4 [==============================] - 0s 5ms/sample - loss: 0.0212\n",
      "Epoch 45/100\n",
      "4/4 [==============================] - 0s 6ms/sample - loss: 0.0199\n",
      "Epoch 46/100\n",
      "4/4 [==============================] - 0s 7ms/sample - loss: 0.0187\n",
      "Epoch 47/100\n",
      "4/4 [==============================] - 0s 5ms/sample - loss: 0.0176\n",
      "Epoch 48/100\n",
      "4/4 [==============================] - 0s 6ms/sample - loss: 0.0166\n",
      "Epoch 49/100\n",
      "4/4 [==============================] - 0s 6ms/sample - loss: 0.0156\n",
      "Epoch 50/100\n",
      "4/4 [==============================] - 0s 6ms/sample - loss: 0.0147\n",
      "Epoch 51/100\n",
      "4/4 [==============================] - 0s 9ms/sample - loss: 0.0138\n",
      "Epoch 52/100\n",
      "4/4 [==============================] - 0s 6ms/sample - loss: 0.0130\n",
      "Epoch 53/100\n",
      "4/4 [==============================] - 0s 7ms/sample - loss: 0.0122\n",
      "Epoch 54/100\n",
      "4/4 [==============================] - 0s 7ms/sample - loss: 0.0115\n",
      "Epoch 55/100\n",
      "4/4 [==============================] - 0s 5ms/sample - loss: 0.0108\n",
      "Epoch 56/100\n",
      "4/4 [==============================] - 0s 11ms/sample - loss: 0.0102\n",
      "Epoch 57/100\n",
      "4/4 [==============================] - 0s 15ms/sample - loss: 0.0096\n",
      "Epoch 58/100\n",
      "4/4 [==============================] - 0s 12ms/sample - loss: 0.0090\n",
      "Epoch 59/100\n",
      "4/4 [==============================] - 0s 6ms/sample - loss: 0.0085\n",
      "Epoch 60/100\n",
      "4/4 [==============================] - 0s 5ms/sample - loss: 0.0080\n",
      "Epoch 61/100\n",
      "4/4 [==============================] - 0s 9ms/sample - loss: 0.0075\n",
      "Epoch 62/100\n",
      "4/4 [==============================] - 0s 6ms/sample - loss: 0.0071\n",
      "Epoch 63/100\n",
      "4/4 [==============================] - 0s 5ms/sample - loss: 0.0067\n",
      "Epoch 64/100\n",
      "4/4 [==============================] - 0s 6ms/sample - loss: 0.0063\n",
      "Epoch 65/100\n",
      "4/4 [==============================] - 0s 5ms/sample - loss: 0.0059\n",
      "Epoch 66/100\n",
      "4/4 [==============================] - 0s 6ms/sample - loss: 0.0056\n",
      "Epoch 67/100\n",
      "4/4 [==============================] - 0s 5ms/sample - loss: 0.0052\n",
      "Epoch 68/100\n",
      "4/4 [==============================] - 0s 5ms/sample - loss: 0.0049\n",
      "Epoch 69/100\n",
      "4/4 [==============================] - 0s 7ms/sample - loss: 0.0046\n",
      "Epoch 70/100\n",
      "4/4 [==============================] - 0s 5ms/sample - loss: 0.0044\n",
      "Epoch 71/100\n",
      "4/4 [==============================] - 0s 5ms/sample - loss: 0.0041\n",
      "Epoch 72/100\n",
      "4/4 [==============================] - 0s 5ms/sample - loss: 0.0039\n",
      "Epoch 73/100\n",
      "4/4 [==============================] - 0s 6ms/sample - loss: 0.0036\n",
      "Epoch 74/100\n",
      "4/4 [==============================] - 0s 5ms/sample - loss: 0.0034\n",
      "Epoch 75/100\n",
      "4/4 [==============================] - 0s 4ms/sample - loss: 0.0032\n",
      "Epoch 76/100\n",
      "4/4 [==============================] - 0s 5ms/sample - loss: 0.0030\n",
      "Epoch 77/100\n",
      "4/4 [==============================] - 0s 5ms/sample - loss: 0.0028\n",
      "Epoch 78/100\n",
      "4/4 [==============================] - 0s 5ms/sample - loss: 0.0027\n",
      "Epoch 79/100\n",
      "4/4 [==============================] - 0s 5ms/sample - loss: 0.0025\n",
      "Epoch 80/100\n",
      "4/4 [==============================] - 0s 5ms/sample - loss: 0.0024\n",
      "Epoch 81/100\n",
      "4/4 [==============================] - 0s 6ms/sample - loss: 0.0022\n",
      "Epoch 82/100\n",
      "4/4 [==============================] - 0s 7ms/sample - loss: 0.0021\n",
      "Epoch 83/100\n",
      "4/4 [==============================] - 0s 5ms/sample - loss: 0.0020\n",
      "Epoch 84/100\n",
      "4/4 [==============================] - 0s 6ms/sample - loss: 0.0019\n",
      "Epoch 85/100\n",
      "4/4 [==============================] - 0s 5ms/sample - loss: 0.0017\n",
      "Epoch 86/100\n",
      "4/4 [==============================] - 0s 5ms/sample - loss: 0.0016\n",
      "Epoch 87/100\n",
      "4/4 [==============================] - 0s 5ms/sample - loss: 0.0015\n",
      "Epoch 88/100\n",
      "4/4 [==============================] - 0s 4ms/sample - loss: 0.0015\n",
      "Epoch 89/100\n",
      "4/4 [==============================] - 0s 4ms/sample - loss: 0.0014\n",
      "Epoch 90/100\n",
      "4/4 [==============================] - 0s 4ms/sample - loss: 0.0013\n",
      "Epoch 91/100\n",
      "4/4 [==============================] - 0s 5ms/sample - loss: 0.0012\n",
      "Epoch 92/100\n",
      "4/4 [==============================] - 0s 4ms/sample - loss: 0.0011\n",
      "Epoch 93/100\n",
      "4/4 [==============================] - 0s 5ms/sample - loss: 0.0011\n",
      "Epoch 94/100\n",
      "4/4 [==============================] - 0s 4ms/sample - loss: 0.0010\n",
      "Epoch 95/100\n",
      "4/4 [==============================] - 0s 5ms/sample - loss: 9.5241e-04\n",
      "Epoch 96/100\n",
      "4/4 [==============================] - 0s 4ms/sample - loss: 8.9623e-04\n",
      "Epoch 97/100\n",
      "4/4 [==============================] - 0s 5ms/sample - loss: 8.4337e-04\n",
      "Epoch 98/100\n",
      "4/4 [==============================] - 0s 5ms/sample - loss: 7.9363e-04\n",
      "Epoch 99/100\n",
      "4/4 [==============================] - 0s 5ms/sample - loss: 7.4682e-04\n",
      "Epoch 100/100\n",
      "4/4 [==============================] - 0s 4ms/sample - loss: 7.0277e-04\n"
     ]
    }
   ],
   "source": [
    "train_history = tf.model.fit(x_train, y_train, epochs=100)"
   ]
  },
  {
   "cell_type": "code",
   "execution_count": 8,
   "metadata": {},
   "outputs": [
    {
     "name": "stdout",
     "output_type": "stream",
     "text": [
      "[[-3.9559135]\n",
      " [-2.977316 ]]\n"
     ]
    }
   ],
   "source": [
    "y_predict = tf.model.predict(np.array([5,4]))\n",
    "print(y_predict)"
   ]
  },
  {
   "cell_type": "markdown",
   "metadata": {},
   "source": [
    "training, validation 손실값을 그래프로 시각화"
   ]
  },
  {
   "cell_type": "code",
   "execution_count": 10,
   "metadata": {},
   "outputs": [
    {
     "data": {
      "image/png": "[encoded data removed]",
      "text/plain": [
       "<Figure size 432x288 with 1 Axes>"
      ]
     },
     "metadata": {
      "needs_background": "light"
     },
     "output_type": "display_data"
    }
   ],
   "source": [
    "plt.plot(train_history.history['loss'])\n",
    "plt.title('Model loss')\n",
    "plt.ylabel('Loss')\n",
    "plt.xlabel('Epoch')\n",
    "plt.legend(['Train', 'Test'], loc='upper left')\n",
    "plt.show()"
   ]
  }
 ],
 "metadata": {
  "kernelspec": {
   "display_name": "Python 3",
   "language": "python",
   "name": "python3"
  },
  "language_info": {
   "codemirror_mode": {
    "name": "ipython",
    "version": 3
   },
   "file_extension": ".py",
   "mimetype": "text/x-python",
   "name": "python",
   "nbconvert_exporter": "python",
   "pygments_lexer": "ipython3",
   "version": "3.7.4"
  }
 },
 "nbformat": 4,
 "nbformat_minor": 2
}
