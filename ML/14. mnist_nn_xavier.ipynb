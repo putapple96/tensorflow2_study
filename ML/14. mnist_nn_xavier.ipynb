{
 "cells": [
  {
   "cell_type": "markdown",
   "metadata": {},
   "source": [
    "## MNIST Neural Network (Xavier init)"
   ]
  },
  {
   "cell_type": "code",
   "execution_count": 1,
   "metadata": {},
   "outputs": [
    {
     "name": "stdout",
     "output_type": "stream",
     "text": [
      "(60000, 28, 28)\n"
     ]
    }
   ],
   "source": [
    "import numpy as np\n",
    "import random\n",
    "import tensorflow as tf\n",
    "\n",
    "random.seed(1234)\n",
    "lr = 0.001\n",
    "batch_size = 100\n",
    "train_epochs = 15\n",
    "classes = 10\n",
    "\n",
    "(x_train, y_train), (x_test2, y_test) = tf.keras.datasets.mnist.load_data()\n",
    "print(x_train.shape)\n",
    "\n",
    "x_train = x_train.reshape(x_train.shape[0], 28 * 28)\n",
    "x_test = x_test2.reshape(x_test2.shape[0], 28 * 28)\n",
    "\n",
    "y_train = tf.keras.utils.to_categorical(y_train, classes)\n",
    "y_test = tf.keras.utils.to_categorical(y_test, classes)"
   ]
  },
  {
   "cell_type": "markdown",
   "metadata": {},
   "source": [
    "Glort normal initializer == Xavier normal initializer\n",
    "[Tensorflow API doc about initializers](https://www.tensorflow.org/api_docs/python/tf/initializers)"
   ]
  },
  {
   "cell_type": "code",
   "execution_count": 2,
   "metadata": {},
   "outputs": [
    {
     "name": "stdout",
     "output_type": "stream",
     "text": [
      "Model: \"sequential\"\n",
      "_________________________________________________________________\n",
      "Layer (type)                 Output Shape              Param #   \n",
      "=================================================================\n",
      "dense (Dense)                (None, 256)               200960    \n",
      "_________________________________________________________________\n",
      "dense_1 (Dense)              (None, 256)               65792     \n",
      "_________________________________________________________________\n",
      "dense_2 (Dense)              (None, 10)                2570      \n",
      "=================================================================\n",
      "Total params: 269,322\n",
      "Trainable params: 269,322\n",
      "Non-trainable params: 0\n",
      "_________________________________________________________________\n"
     ]
    }
   ],
   "source": [
    "tf.model = tf.keras.Sequential()\n",
    "\n",
    "tf.model.add(tf.keras.layers.Dense(input_dim=784, units=256, kernel_initializer='glorot_normal',\n",
    "                                  activation='relu'))\n",
    "tf.model.add(tf.keras.layers.Dense(units=256, kernel_initializer='glorot_normal', activation='relu'))\n",
    "tf.model.add(tf.keras.layers.Dense(units=classes, kernel_initializer='glorot_normal', activation='softmax'))\n",
    "tf.model.compile(\n",
    "    loss='categorical_crossentropy',\n",
    "    optimizer=tf.keras.optimizers.Adam(lr=lr),\n",
    "    metrics=['accuracy']\n",
    ")\n",
    "tf.model.summary()"
   ]
  },
  {
   "cell_type": "code",
   "execution_count": 3,
   "metadata": {},
   "outputs": [
    {
     "name": "stdout",
     "output_type": "stream",
     "text": [
      "Train on 60000 samples\n",
      "Epoch 1/15\n",
      "60000/60000 [==============================] - 6s 106us/sample - loss: 2.1057 - accuracy: 0.8931\n",
      "Epoch 2/15\n",
      "60000/60000 [==============================] - 5s 85us/sample - loss: 0.3922 - accuracy: 0.9454\n",
      "Epoch 3/15\n",
      "60000/60000 [==============================] - 5s 85us/sample - loss: 0.2454 - accuracy: 0.9572\n",
      "Epoch 4/15\n",
      "60000/60000 [==============================] - 5s 87us/sample - loss: 0.1660 - accuracy: 0.9668\n",
      "Epoch 5/15\n",
      "60000/60000 [==============================] - 6s 97us/sample - loss: 0.1399 - accuracy: 0.9707\n",
      "Epoch 6/15\n",
      "60000/60000 [==============================] - 5s 83us/sample - loss: 0.1276 - accuracy: 0.9721\n",
      "Epoch 7/15\n",
      "60000/60000 [==============================] - 5s 91us/sample - loss: 0.1048 - accuracy: 0.9749\n",
      "Epoch 8/15\n",
      "60000/60000 [==============================] - 6s 93us/sample - loss: 0.0838 - accuracy: 0.9787\n",
      "Epoch 9/15\n",
      "60000/60000 [==============================] - 5s 84us/sample - loss: 0.0800 - accuracy: 0.9792\n",
      "Epoch 10/15\n",
      "60000/60000 [==============================] - 5s 89us/sample - loss: 0.1012 - accuracy: 0.9763\n",
      "Epoch 11/15\n",
      "60000/60000 [==============================] - 5s 88us/sample - loss: 0.0816 - accuracy: 0.9791\n",
      "Epoch 12/15\n",
      "60000/60000 [==============================] - 5s 89us/sample - loss: 0.0725 - accuracy: 0.9812\n",
      "Epoch 13/15\n",
      "60000/60000 [==============================] - 5s 86us/sample - loss: 0.0645 - accuracy: 0.9828\n",
      "Epoch 14/15\n",
      "60000/60000 [==============================] - 5s 90us/sample - loss: 0.0664 - accuracy: 0.9819\n",
      "Epoch 15/15\n",
      "60000/60000 [==============================] - 6s 97us/sample - loss: 0.0782 - accuracy: 0.9814\n"
     ]
    }
   ],
   "source": [
    "train_history = tf.model.fit(x_train, y_train, batch_size=batch_size, epochs=train_epochs)"
   ]
  },
  {
   "cell_type": "code",
   "execution_count": 7,
   "metadata": {},
   "outputs": [
    {
     "name": "stdout",
     "output_type": "stream",
     "text": [
      "index:  860 real y:  6 pred y:  6  Correct!\n",
      "index:  5726 real y:  5 pred y:  5  Correct!\n",
      "index:  7218 real y:  4 pred y:  4  Correct!\n",
      "index:  3809 real y:  1 pred y:  1  Correct!\n",
      "index:  8036 real y:  2 pred y:  2  Correct!\n",
      "index:  2708 real y:  4 pred y:  4  Correct!\n",
      "index:  6234 real y:  2 pred y:  2  Correct!\n",
      "index:  5044 real y:  1 pred y:  1  Correct!\n",
      "index:  40 real y:  1 pred y:  1  Correct!\n",
      "index:  1201 real y:  1 pred y:  1  Correct!\n",
      "index:  7867 real y:  9 pred y:  9  Correct!\n",
      "index:  6471 real y:  7 pred y:  7  Correct!\n",
      "index:  4889 real y:  2 pred y:  2  Correct!\n",
      "index:  7027 real y:  8 pred y:  8  Correct!\n",
      "index:  7857 real y:  2 pred y:  2  Correct!\n",
      "index:  3040 real y:  7 pred y:  7  Correct!\n",
      "index:  6561 real y:  7 pred y:  7  Correct!\n",
      "index:  7830 real y:  0 pred y:  0  Correct!\n",
      "index:  2575 real y:  3 pred y:  3  Correct!\n",
      "index:  4608 real y:  8 pred y:  8  Correct!\n",
      "index:  9691 real y:  8 pred y:  8  Correct!\n",
      "index:  6054 real y:  7 pred y:  7  Correct!\n",
      "index:  9838 real y:  1 pred y:  1  Correct!\n",
      "index:  5676 real y:  4 pred y:  4  Correct!\n",
      "index:  3376 real y:  7 pred y:  7  Correct!\n",
      "index:  2768 real y:  5 pred y:  5  Correct!\n",
      "index:  8501 real y:  0 pred y:  0  Correct!\n",
      "index:  9306 real y:  6 pred y:  6  Correct!\n",
      "index:  7494 real y:  4 pred y:  4  Correct!\n",
      "index:  7773 real y:  2 pred y:  2  Correct!\n",
      "index:  463 real y:  6 pred y:  6  Correct!\n",
      "index:  7665 real y:  1 pred y:  1  Correct!\n",
      "index:  1699 real y:  7 pred y:  7  Correct!\n",
      "index:  440 real y:  0 pred y:  0  Correct!\n",
      "index:  6006 real y:  7 pred y:  7  Correct!\n",
      "index:  7795 real y:  9 pred y:  9  Correct!\n",
      "index:  1068 real y:  8 pred y:  8  Correct!\n",
      "index:  2294 real y:  0 pred y:  0  Correct!\n",
      "index:  9634 real y:  0 pred y:  6  Incorrect..\n",
      "index:  5435 real y:  0 pred y:  0  Correct!\n",
      "index:  5716 real y:  2 pred y:  2  Correct!\n",
      "index:  4745 real y:  4 pred y:  4  Correct!\n",
      "index:  4892 real y:  5 pred y:  5  Correct!\n",
      "index:  9552 real y:  0 pred y:  0  Correct!\n",
      "index:  5416 real y:  1 pred y:  1  Correct!\n",
      "index:  9221 real y:  0 pred y:  0  Correct!\n",
      "index:  4813 real y:  4 pred y:  4  Correct!\n",
      "index:  9216 real y:  9 pred y:  9  Correct!\n",
      "index:  3187 real y:  6 pred y:  6  Correct!\n",
      "index:  8342 real y:  0 pred y:  0  Correct!\n",
      "index:  4571 real y:  6 pred y:  8  Incorrect..\n",
      "index:  1187 real y:  2 pred y:  2  Correct!\n",
      "index:  8749 real y:  7 pred y:  7  Correct!\n",
      "index:  9866 real y:  4 pred y:  4  Correct!\n",
      "index:  3342 real y:  6 pred y:  6  Correct!\n",
      "index:  5564 real y:  4 pred y:  4  Correct!\n",
      "index:  8360 real y:  1 pred y:  1  Correct!\n",
      "index:  5476 real y:  4 pred y:  4  Correct!\n",
      "index:  5260 real y:  4 pred y:  4  Correct!\n",
      "index:  7504 real y:  7 pred y:  7  Correct!\n",
      "index:  4382 real y:  4 pred y:  9  Incorrect..\n",
      "index:  1391 real y:  4 pred y:  4  Correct!\n",
      "index:  8638 real y:  7 pred y:  7  Correct!\n",
      "index:  9653 real y:  1 pred y:  1  Correct!\n",
      "index:  9544 real y:  9 pred y:  9  Correct!\n",
      "index:  8982 real y:  5 pred y:  5  Correct!\n",
      "index:  1959 real y:  0 pred y:  0  Correct!\n",
      "index:  4018 real y:  3 pred y:  8  Incorrect..\n",
      "index:  4213 real y:  9 pred y:  9  Correct!\n",
      "index:  6092 real y:  1 pred y:  1  Correct!\n",
      "index:  2245 real y:  1 pred y:  1  Correct!\n",
      "index:  464 real y:  3 pred y:  3  Correct!\n",
      "index:  6464 real y:  8 pred y:  8  Correct!\n",
      "index:  612 real y:  2 pred y:  2  Correct!\n",
      "index:  722 real y:  4 pred y:  4  Correct!\n",
      "index:  3419 real y:  1 pred y:  1  Correct!\n",
      "index:  2536 real y:  0 pred y:  0  Correct!\n",
      "index:  5128 real y:  1 pred y:  1  Correct!\n",
      "index:  8448 real y:  0 pred y:  0  Correct!\n",
      "index:  5823 real y:  2 pred y:  2  Correct!\n",
      "index:  7119 real y:  3 pred y:  3  Correct!\n",
      "index:  8442 real y:  4 pred y:  4  Correct!\n",
      "index:  1130 real y:  9 pred y:  9  Correct!\n",
      "index:  4999 real y:  0 pred y:  0  Correct!\n",
      "index:  4283 real y:  9 pred y:  9  Correct!\n",
      "index:  7955 real y:  2 pred y:  2  Correct!\n",
      "index:  9499 real y:  1 pred y:  1  Correct!\n",
      "index:  3597 real y:  9 pred y:  5  Incorrect..\n",
      "index:  5697 real y:  5 pred y:  5  Correct!\n",
      "index:  8263 real y:  3 pred y:  3  Correct!\n",
      "index:  1357 real y:  4 pred y:  4  Correct!\n",
      "index:  297 real y:  0 pred y:  0  Correct!\n",
      "index:  9585 real y:  0 pred y:  0  Correct!\n",
      "index:  5424 real y:  9 pred y:  9  Correct!\n",
      "index:  9243 real y:  8 pred y:  8  Correct!\n",
      "index:  3761 real y:  1 pred y:  1  Correct!\n",
      "index:  2662 real y:  2 pred y:  2  Correct!\n",
      "index:  7831 real y:  3 pred y:  3  Correct!\n",
      "index:  8182 real y:  9 pred y:  9  Correct!\n",
      "index:  2292 real y:  9 pred y:  5  Incorrect..\n",
      "10000/10000 [==============================] - 1s 129us/sample - loss: 0.2022 - accuracy: 0.9681\n",
      "loss:  0.20215660341368122\n",
      "accuracy 0.9681\n"
     ]
    }
   ],
   "source": [
    "# predict 100 random hand-writing data\n",
    "y_pred = tf.model.predict(x_test)\n",
    "for x in range(0, 100):\n",
    "    rand_idx = random.randint(0, x_test.shape[0]-1)\n",
    "    print(\"index: \", rand_idx,\n",
    "          \"real y: \", np.argmax(y_test[rand_idx]),\n",
    "          \"pred y: \", np.argmax(y_pred[rand_idx]), end='  ')\n",
    "    if(np.argmax(y_test[rand_idx]) == np.argmax(y_pred[rand_idx])):\n",
    "        print(\"Correct!\")\n",
    "    else: print(\"Incorrect..\")\n",
    "\n",
    "# evaluate test set\n",
    "evaluation = tf.model.evaluate(x_test, y_test)\n",
    "print('loss: ', evaluation[0])\n",
    "print('accuracy', evaluation[1])"
   ]
  }
 ],
 "metadata": {
  "kernelspec": {
   "display_name": "Python 3",
   "language": "python",
   "name": "python3"
  },
  "language_info": {
   "codemirror_mode": {
    "name": "ipython",
    "version": 3
   },
   "file_extension": ".py",
   "mimetype": "text/x-python",
   "name": "python",
   "nbconvert_exporter": "python",
   "pygments_lexer": "ipython3",
   "version": "3.7.4"
  }
 },
 "nbformat": 4,
 "nbformat_minor": 2
}
