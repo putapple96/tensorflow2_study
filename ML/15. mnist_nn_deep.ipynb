{
 "cells": [
  {
   "cell_type": "markdown",
   "metadata": {},
   "source": [
    "## MNIST Deep Neural Network"
   ]
  },
  {
   "cell_type": "code",
   "execution_count": 1,
   "metadata": {},
   "outputs": [
    {
     "name": "stdout",
     "output_type": "stream",
     "text": [
      "(60000, 28, 28)\n"
     ]
    }
   ],
   "source": [
    "import numpy as np\n",
    "import tensorflow as tf\n",
    "import random\n",
    "\n",
    "random.seed(1234)\n",
    "lr = 0.001\n",
    "batch_size = 100\n",
    "train_epochs = 15\n",
    "classes = 10\n",
    "\n",
    "(x_train, y_train), (x_test, y_test) = tf.keras.datasets.mnist.load_data()\n",
    "print(x_train.shape)"
   ]
  },
  {
   "cell_type": "code",
   "execution_count": 3,
   "metadata": {},
   "outputs": [],
   "source": [
    "x_train = x_train.reshape(x_train.shape[0], 28*28)\n",
    "x_test = x_test.reshape(x_test.shape[0], 28*28)\n",
    "\n",
    "y_train = tf.keras.utils.to_categorical(y_train, classes)\n",
    "y_test = tf.keras.utils.to_categorical(y_test, classes)"
   ]
  },
  {
   "cell_type": "markdown",
   "metadata": {},
   "source": [
    "input > layer1(relu) - layer2(relu) - layer3(relu) - layer4(relu) - layer5(softmax) > output"
   ]
  },
  {
   "cell_type": "code",
   "execution_count": 4,
   "metadata": {},
   "outputs": [
    {
     "name": "stdout",
     "output_type": "stream",
     "text": [
      "Model: \"sequential\"\n",
      "_________________________________________________________________\n",
      "Layer (type)                 Output Shape              Param #   \n",
      "=================================================================\n",
      "dense (Dense)                (None, 512)               401920    \n",
      "_________________________________________________________________\n",
      "dense_1 (Dense)              (None, 512)               262656    \n",
      "_________________________________________________________________\n",
      "dense_2 (Dense)              (None, 512)               262656    \n",
      "_________________________________________________________________\n",
      "dense_3 (Dense)              (None, 512)               262656    \n",
      "_________________________________________________________________\n",
      "dense_4 (Dense)              (None, 10)                5130      \n",
      "=================================================================\n",
      "Total params: 1,195,018\n",
      "Trainable params: 1,195,018\n",
      "Non-trainable params: 0\n",
      "_________________________________________________________________\n"
     ]
    }
   ],
   "source": [
    "tf.model = tf.keras.Sequential()\n",
    "\n",
    "tf.model.add(tf.keras.layers.Dense(input_dim=784, units=512, \n",
    "                                  kernel_initializer='glorot_normal',\n",
    "                                  activation='relu'))\n",
    "tf.model.add(tf.keras.layers.Dense(units=512, \n",
    "                                  kernel_initializer='glorot_normal',\n",
    "                                  activation='relu'))\n",
    "tf.model.add(tf.keras.layers.Dense(units=512, \n",
    "                                  kernel_initializer='glorot_normal',\n",
    "                                  activation='relu'))\n",
    "tf.model.add(tf.keras.layers.Dense(units=512, \n",
    "                                  kernel_initializer='glorot_normal',\n",
    "                                  activation='relu'))\n",
    "tf.model.add(tf.keras.layers.Dense(units=classes, \n",
    "                                  kernel_initializer='glorot_normal',\n",
    "                                  activation='softmax'))\n",
    "\n",
    "tf.model.compile(loss='categorical_crossentropy',\n",
    "                optimizer=tf.keras.optimizers.Adam(lr=lr), \n",
    "                metrics=['accuracy'])\n",
    "\n",
    "tf.model.summary()"
   ]
  },
  {
   "cell_type": "code",
   "execution_count": 5,
   "metadata": {},
   "outputs": [
    {
     "name": "stdout",
     "output_type": "stream",
     "text": [
      "Train on 60000 samples\n",
      "Epoch 1/15\n",
      "60000/60000 [==============================] - 20s 328us/sample - loss: 1.0304 - accuracy: 0.9026- los\n",
      "Epoch 2/15\n",
      "60000/60000 [==============================] - 17s 283us/sample - loss: 0.1393 - accuracy: 0.9595\n",
      "Epoch 3/15\n",
      "60000/60000 [==============================] - 17s 289us/sample - loss: 0.1050 - accuracy: 0.9683\n",
      "Epoch 4/15\n",
      "60000/60000 [==============================] - 17s 288us/sample - loss: 0.1013 - accuracy: 0.9703\n",
      "Epoch 5/15\n",
      "60000/60000 [==============================] - 17s 287us/sample - loss: 0.0853 - accuracy: 0.9745\n",
      "Epoch 6/15\n",
      "60000/60000 [==============================] - 18s 294us/sample - loss: 0.0810 - accuracy: 0.9762- los\n",
      "Epoch 7/15\n",
      "60000/60000 [==============================] - 18s 293us/sample - loss: 0.0734 - accuracy: 0.9784\n",
      "Epoch 8/15\n",
      "60000/60000 [==============================] - 17s 291us/sample - loss: 0.0689 - accuracy: 0.9809- loss: 0.0690 - accuracy: 0.98\n",
      "Epoch 9/15\n",
      "60000/60000 [==============================] - 18s 294us/sample - loss: 0.0586 - accuracy: 0.9827\n",
      "Epoch 10/15\n",
      "60000/60000 [==============================] - 18s 293us/sample - loss: 0.0633 - accuracy: 0.9818\n",
      "Epoch 11/15\n",
      "60000/60000 [==============================] - 17s 291us/sample - loss: 0.0516 - accuracy: 0.9855\n",
      "Epoch 12/15\n",
      "60000/60000 [==============================] - 17s 282us/sample - loss: 0.0649 - accuracy: 0.9828- loss: 0.0653 - \n",
      "Epoch 13/15\n",
      "60000/60000 [==============================] - 17s 278us/sample - loss: 0.0541 - accuracy: 0.9856\n",
      "Epoch 14/15\n",
      "60000/60000 [==============================] - 17s 279us/sample - loss: 0.0404 - accuracy: 0.9890\n",
      "Epoch 15/15\n",
      "60000/60000 [==============================] - 17s 283us/sample - loss: 0.0514 - accuracy: 0.9863\n"
     ]
    }
   ],
   "source": [
    "train_history = tf.model.fit(x_train, y_train, batch_size = batch_size, epochs=train_epochs)"
   ]
  },
  {
   "cell_type": "markdown",
   "metadata": {},
   "source": [
    "학습모델이 깊어짐(layer를 많이 쌓음)에따라 학습에 소요되는 시간이 증가하였으나\n",
    "정확도는 향상되었음."
   ]
  },
  {
   "cell_type": "code",
   "execution_count": 7,
   "metadata": {},
   "outputs": [
    {
     "name": "stdout",
     "output_type": "stream",
     "text": [
      "Index :  7220 Real y :  8 Pred y :  8 Correct!\n",
      "Index :  1914 Real y :  8 Pred y :  8 Correct!\n",
      "Index :  122 Real y :  7 Pred y :  7 Correct!\n",
      "Index :  1485 Real y :  2 Pred y :  2 Correct!\n",
      "Index :  9539 Real y :  9 Pred y :  9 Correct!\n",
      "Index :  572 Real y :  8 Pred y :  8 Correct!\n",
      "Index :  1375 Real y :  2 Pred y :  2 Correct!\n",
      "Index :  1612 Real y :  3 Pred y :  3 Correct!\n",
      "Index :  5810 Real y :  6 Pred y :  6 Correct!\n",
      "Index :  3879 Real y :  9 Pred y :  9 Correct!\n",
      "Index :  285 Real y :  2 Pred y :  2 Correct!\n",
      "Index :  504 Real y :  1 Pred y :  1 Correct!\n",
      "Index :  259 Real y :  6 Pred y :  6 Correct!\n",
      "Index :  5670 Real y :  7 Pred y :  7 Correct!\n",
      "Index :  7933 Real y :  0 Pred y :  0 Correct!\n",
      "Index :  7594 Real y :  9 Pred y :  9 Correct!\n",
      "Index :  2433 Real y :  2 Pred y :  2 Correct!\n",
      "Index :  1495 Real y :  3 Pred y :  3 Correct!\n",
      "Index :  2999 Real y :  0 Pred y :  0 Correct!\n",
      "Index :  1874 Real y :  5 Pred y :  5 Correct!\n",
      "Index :  239 Real y :  1 Pred y :  1 Correct!\n",
      "Index :  8242 Real y :  8 Pred y :  8 Correct!\n",
      "Index :  7974 Real y :  5 Pred y :  5 Correct!\n",
      "Index :  4093 Real y :  9 Pred y :  9 Correct!\n",
      "Index :  1057 Real y :  4 Pred y :  4 Correct!\n",
      "Index :  8865 Real y :  0 Pred y :  0 Correct!\n",
      "Index :  7633 Real y :  8 Pred y :  8 Correct!\n",
      "Index :  1123 Real y :  6 Pred y :  6 Correct!\n",
      "Index :  9854 Real y :  8 Pred y :  8 Correct!\n",
      "Index :  1457 Real y :  0 Pred y :  0 Correct!\n",
      "Index :  8438 Real y :  2 Pred y :  2 Correct!\n",
      "Index :  9486 Real y :  7 Pred y :  7 Correct!\n",
      "Index :  753 Real y :  3 Pred y :  3 Correct!\n",
      "Index :  4416 Real y :  6 Pred y :  6 Correct!\n",
      "Index :  9116 Real y :  8 Pred y :  8 Correct!\n",
      "Index :  1033 Real y :  8 Pred y :  8 Correct!\n",
      "Index :  4954 Real y :  2 Pred y :  2 Correct!\n",
      "Index :  7881 Real y :  1 Pred y :  1 Correct!\n",
      "Index :  5820 Real y :  2 Pred y :  2 Correct!\n",
      "Index :  4365 Real y :  0 Pred y :  0 Correct!\n",
      "Index :  4082 Real y :  0 Pred y :  0 Correct!\n",
      "Index :  3277 Real y :  7 Pred y :  7 Correct!\n",
      "Index :  7428 Real y :  8 Pred y :  8 Correct!\n",
      "Index :  8686 Real y :  5 Pred y :  5 Correct!\n",
      "Index :  316 Real y :  6 Pred y :  6 Correct!\n",
      "Index :  8324 Real y :  1 Pred y :  1 Correct!\n",
      "Index :  1156 Real y :  7 Pred y :  8 Incorrect..\n",
      "Index :  94 Real y :  1 Pred y :  1 Correct!\n",
      "Index :  5464 Real y :  4 Pred y :  4 Correct!\n",
      "Index :  2355 Real y :  1 Pred y :  1 Correct!\n",
      "Index :  7746 Real y :  9 Pred y :  9 Correct!\n",
      "Index :  6182 Real y :  1 Pred y :  1 Correct!\n",
      "Index :  2737 Real y :  6 Pred y :  6 Correct!\n",
      "Index :  887 Real y :  3 Pred y :  3 Correct!\n",
      "Index :  1249 Real y :  8 Pred y :  8 Correct!\n",
      "Index :  9626 Real y :  5 Pred y :  5 Correct!\n",
      "Index :  8135 Real y :  8 Pred y :  8 Correct!\n",
      "Index :  2687 Real y :  0 Pred y :  0 Correct!\n",
      "Index :  1234 Real y :  8 Pred y :  8 Correct!\n",
      "Index :  9131 Real y :  2 Pred y :  2 Correct!\n",
      "Index :  3524 Real y :  6 Pred y :  6 Correct!\n",
      "Index :  2363 Real y :  4 Pred y :  4 Correct!\n",
      "Index :  444 Real y :  2 Pred y :  2 Correct!\n",
      "Index :  5672 Real y :  9 Pred y :  9 Correct!\n",
      "Index :  1816 Real y :  4 Pred y :  4 Correct!\n",
      "Index :  8678 Real y :  7 Pred y :  7 Correct!\n",
      "Index :  2313 Real y :  9 Pred y :  9 Correct!\n",
      "Index :  5003 Real y :  8 Pred y :  8 Correct!\n",
      "Index :  7440 Real y :  0 Pred y :  0 Correct!\n",
      "Index :  648 Real y :  3 Pred y :  3 Correct!\n",
      "Index :  6819 Real y :  1 Pred y :  1 Correct!\n",
      "Index :  4534 Real y :  9 Pred y :  9 Correct!\n",
      "Index :  658 Real y :  7 Pred y :  7 Correct!\n",
      "Index :  2905 Real y :  8 Pred y :  8 Correct!\n",
      "Index :  4451 Real y :  2 Pred y :  2 Correct!\n",
      "Index :  2532 Real y :  6 Pred y :  6 Correct!\n",
      "Index :  4919 Real y :  9 Pred y :  9 Correct!\n",
      "Index :  2532 Real y :  6 Pred y :  6 Correct!\n",
      "Index :  7610 Real y :  3 Pred y :  3 Correct!\n",
      "Index :  672 Real y :  1 Pred y :  1 Correct!\n",
      "Index :  9225 Real y :  2 Pred y :  2 Correct!\n",
      "Index :  6327 Real y :  8 Pred y :  8 Correct!\n",
      "Index :  5727 Real y :  6 Pred y :  6 Correct!\n",
      "Index :  8124 Real y :  7 Pred y :  7 Correct!\n",
      "Index :  5598 Real y :  5 Pred y :  5 Correct!\n",
      "Index :  9549 Real y :  1 Pred y :  1 Correct!\n",
      "Index :  7669 Real y :  4 Pred y :  4 Correct!\n",
      "Index :  7797 Real y :  5 Pred y :  5 Correct!\n",
      "Index :  742 Real y :  0 Pred y :  0 Correct!\n",
      "Index :  7714 Real y :  3 Pred y :  3 Correct!\n",
      "Index :  9747 Real y :  5 Pred y :  5 Correct!\n",
      "Index :  2784 Real y :  2 Pred y :  2 Correct!\n",
      "Index :  7202 Real y :  0 Pred y :  0 Correct!\n",
      "Index :  8506 Real y :  9 Pred y :  9 Correct!\n",
      "Index :  7174 Real y :  9 Pred y :  9 Correct!\n",
      "Index :  4844 Real y :  5 Pred y :  5 Correct!\n",
      "Index :  4506 Real y :  2 Pred y :  2 Correct!\n",
      "Index :  2029 Real y :  5 Pred y :  5 Correct!\n",
      "Index :  3041 Real y :  9 Pred y :  9 Correct!\n",
      "Index :  6821 Real y :  3 Pred y :  3 Correct!\n"
     ]
    }
   ],
   "source": [
    "pred = tf.model.predict(x_test)\n",
    "for x in range(0, 100):\n",
    "    rand = random.randint(0, x_test.shape[0] -1)\n",
    "    print(\"Index : \", rand,\n",
    "         \"Real y : \", np.argmax(y_test[rand]),\n",
    "         \"Pred y : \", np.argmax(pred[rand]), end= \" \")\n",
    "    if(np.argmax(y_test[rand]) == np.argmax(pred[rand])):\n",
    "        print(\"Correct!\")\n",
    "    else: print(\"Incorrect..\")"
   ]
  },
  {
   "cell_type": "code",
   "execution_count": 9,
   "metadata": {},
   "outputs": [
    {
     "name": "stdout",
     "output_type": "stream",
     "text": [
      "10000/10000 [==============================] - 3s 302us/sample - loss: 0.1297 - accuracy: 0.9738\n",
      "loss :  0.12966977841822444\n",
      "Accuracy :  0.9738\n"
     ]
    }
   ],
   "source": [
    "evaluation = tf.model.evaluate(x_test, y_test)\n",
    "print(\"loss : \", evaluation[0])\n",
    "print(\"Accuracy : \", evaluation[1])"
   ]
  }
 ],
 "metadata": {
  "kernelspec": {
   "display_name": "Python 3",
   "language": "python",
   "name": "python3"
  },
  "language_info": {
   "codemirror_mode": {
    "name": "ipython",
    "version": 3
   },
   "file_extension": ".py",
   "mimetype": "text/x-python",
   "name": "python",
   "nbconvert_exporter": "python",
   "pygments_lexer": "ipython3",
   "version": "3.7.4"
  }
 },
 "nbformat": 4,
 "nbformat_minor": 2
}
